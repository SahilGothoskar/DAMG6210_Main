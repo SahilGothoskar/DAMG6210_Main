{
 "cells": [
  {
   "cell_type": "code",
   "execution_count": 1,
   "id": "947c2bec",
   "metadata": {},
   "outputs": [],
   "source": [
    "from selenium import webdriver\n",
    "import time\n",
    "import pandas as pd \n",
    "import os\n",
    "import csv\n",
    "from bs4 import BeautifulSoup\n",
    "from getpass import getpass\n",
    "from selenium.common.exceptions import NoSuchElementException\n",
    "from selenium.common.exceptions import StaleElementReferenceException\n",
    "from selenium.webdriver.common.keys import Keys\n",
    "from selenium.webdriver.support.select import Select\n",
    "from selenium.webdriver.support.ui import WebDriverWait\n",
    "from selenium.webdriver.common.by import By \n",
    "from selenium.webdriver.support import expected_conditions as EC"
   ]
  },
  {
   "cell_type": "code",
   "execution_count": 2,
   "id": "69b6fc0d",
   "metadata": {},
   "outputs": [],
   "source": [
    "# search_titles = [\"business analyst\",\"data analytics\", \"business intelligence\",\"data science\"]\n",
    "\n",
    "# cities = [\"Boston\",\"New York\",\"New Jersey\"]\n",
    "cities = [\"Boston\"]\n",
    "search_titles = [\"business analyst\"]\n",
    "# job_types = [\"fulltime\",\"parttime\"]\n",
    "job_types = [\"fulltime\"]"
   ]
  },
  {
   "cell_type": "code",
   "execution_count": 3,
   "id": "5123eb5c",
   "metadata": {},
   "outputs": [
    {
     "name": "stderr",
     "output_type": "stream",
     "text": [
      "/var/folders/q2/rrpc1xwj3fd3w1qkrnk4q3j00000gn/T/ipykernel_47701/1501688740.py:3: DeprecationWarning: executable_path has been deprecated, please pass in a Service object\n",
      "  driver  = webdriver.Chrome(executable_path = \"./chromedriver\")\n"
     ]
    }
   ],
   "source": [
    "headers = [\"Title\",\"Desc\"]\n",
    "url1 = \"https://www.indeed.com/jobs?q=\"\n",
    "driver  = webdriver.Chrome(executable_path = \"./chromedriver\")"
   ]
  },
  {
   "cell_type": "code",
   "execution_count": 4,
   "id": "28215e4d",
   "metadata": {},
   "outputs": [
    {
     "name": "stdout",
     "output_type": "stream",
     "text": [
      "https://www.indeed.com/jobs?q=business+analyst&l=Boston&sc=0kf%3Ajt(fulltime)%3B\n"
     ]
    }
   ],
   "source": [
    "rows = []\n",
    "for stitle in search_titles:\n",
    "    for city in cities:\n",
    "        for type in job_types:\n",
    "            path = f\"https://www.indeed.com/jobs?q={stitle.replace(' ','+')}&l={city.replace(' ','+')}&sc=0kf%3Ajt({type})%3B\"\n",
    "            driver.implicitly_wait(1000)\n",
    "            driver.get(path)\n",
    "            driver.implicitly_wait(1000)\n",
    "            print(path)\n",
    "            time.sleep(2)\n",
    "            jobs  = driver.find_elements(By.XPATH,\"//div[@class = 'job_seen_beacon']\")\n",
    "            for item in jobs:\n",
    "                temp = []\n",
    "#                 time.sleep(2)\n",
    "                index = jobs.index(item)\n",
    "                timeout = time.time() + 5\n",
    "                try:\n",
    "                    item.click()\n",
    "                    driver.implicitly_wait(10000000)\n",
    "        #             time.sleep(3)\n",
    "                    try:\n",
    "                        job_url = item.find_elements(By.XPATH,\"//a\")\n",
    "                        job_details = item.find_element(By.XPATH,\"//div[@id = 'jobsearch-ViewjobPaneWrapper']\")\n",
    "                        if(job_details): \n",
    "                            desc = job_details.find_element(By.XPATH,\"//div[@class = 'jobsearch-jobDescriptionText']\").text                    \n",
    "                            job_title = job_details.find_element(By.XPATH,\"//h1[@class = 'icl-u-xs-mb--xs icl-u-xs-mt--none jobsearch-JobInfoHeader-title is-embedded']\").text\n",
    "                            temp.append(job_title)\n",
    "                            company_name_selector = item.find_elements(By.XPATH,\"//span[@class = 'companyName']\")\n",
    "                            company_rating = item.find_elements(By.XPATH,\"//span[@class = 'ratingsDisplay withRatingLink']\")\n",
    "                            posted_date = item.find_elements(By.XPATH,\"//span[@class = 'date']\")\n",
    "#                             if(len(company_name_selector)>index):\n",
    "#                                 name = company_name_selector[index].text\n",
    "#                                 temp.append(name)\n",
    "#                             else:\n",
    "#                                 temp.append(\"Nan\")\n",
    "                            if(len(job_url)>index):\n",
    "                                url = job_url[index].get_attribute('href')\n",
    "                                temp.append(url)\n",
    "                            else:\n",
    "                                temp.append(\"Nan\")\n",
    "                            if(len(job_url)>index):\n",
    "                                url = job_url[index].get_attribute('href')\n",
    "                                temp.append(url)\n",
    "                            else:\n",
    "                                temp.append(\"Nan\")\n",
    "                            if(len(company_rating)>index):\n",
    "                                rating = company_rating[index].text\n",
    "                                temp.append(rating)\n",
    "                            else:\n",
    "                                temp.append(\"Nan\")\n",
    "                            temp.append(city)\n",
    "                            temp.append(type)\n",
    "                            temp.append(desc)\n",
    "                            if(len(posted_date)>index):\n",
    "                                date = posted_date[index].text\n",
    "                                if(len(date.split())>2):\n",
    "                                    temp.append(date.split()[2])\n",
    "                                else:\n",
    "                                    temp.append(\"Nan\")\n",
    "                            else:\n",
    "                                temp.append(\"Nan\")\n",
    "                           \n",
    "                            rows.append(temp)\n",
    "                    except Exception as e:\n",
    "                        print(e)\n",
    "                except StaleElementReferenceException:\n",
    "                    continue"
   ]
  },
  {
   "cell_type": "code",
   "execution_count": 5,
   "id": "69904899",
   "metadata": {},
   "outputs": [],
   "source": [
    "with open('indeed.csv', 'w', newline='', encoding='utf-8') as f:\n",
    "                header = ['Job_Titile','Job_Url','Company_Url','Rating','Location','Job_type','Job_description','Posted_Date']\n",
    "                writer = csv.writer(f)\n",
    "                writer.writerow(header)\n",
    "                writer.writerows(rows)"
   ]
  }
 ],
 "metadata": {
  "kernelspec": {
   "display_name": "Python 3 (ipykernel)",
   "language": "python",
   "name": "python3"
  },
  "language_info": {
   "codemirror_mode": {
    "name": "ipython",
    "version": 3
   },
   "file_extension": ".py",
   "mimetype": "text/x-python",
   "name": "python",
   "nbconvert_exporter": "python",
   "pygments_lexer": "ipython3",
   "version": "3.9.12"
  }
 },
 "nbformat": 4,
 "nbformat_minor": 5
}
