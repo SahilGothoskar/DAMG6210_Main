{
 "cells": [
  {
   "cell_type": "code",
   "execution_count": null,
   "id": "7a3b4843",
   "metadata": {},
   "outputs": [],
   "source": [
    "#import statements\n",
    "import pandas as pd\n",
    "from datetime import datetime, timedelta"
   ]
  },
  {
   "cell_type": "code",
   "execution_count": null,
   "id": "e64b4a77",
   "metadata": {},
   "outputs": [],
   "source": [
    "#get un-normalized csv\n",
    "dfdb = pd.read_csv(\"JobsNormalize.csv\")\n",
    "dfdb"
   ]
  },
  {
   "cell_type": "code",
   "execution_count": null,
   "id": "6b5d7a42",
   "metadata": {},
   "outputs": [],
   "source": [
    "#import sql statements\n",
    "import sqlite3\n",
    "import plotly.express as px"
   ]
  },
  {
   "cell_type": "code",
   "execution_count": null,
   "id": "06d27975",
   "metadata": {},
   "outputs": [],
   "source": [
    "#connection to the Database\n",
    "conn = sqlite3.connect('JobsFinalDatabase.db')\n",
    "\n",
    "try:\n",
    "    conn.cursor()\n",
    "    print(\"DB Connected\");\n",
    "except Exception as ex:\n",
    "    print(\"DB not Connected\");"
   ]
  },
  {
   "cell_type": "code",
   "execution_count": null,
   "id": "6ed7d533",
   "metadata": {},
   "outputs": [],
   "source": [
    "#Create table Job_basic_details\n",
    "#Basic table before normalization\n",
    "conn = sqlite3.connect('JobsFinalDatabase.db')\n",
    "print(\"Opened database successfully\");\n",
    "conn.execute('''DROP TABLE IF EXISTS job_basic_details;''')\n",
    "conn.execute('''CREATE TABLE IF NOT EXISTS job_basic_details\n",
    "         (\n",
    "        job_title TEXT,\n",
    "        company_name TEXT,\n",
    "        location TEXT,\n",
    "        salary TEXT,\n",
    "        job_type TEXT,\n",
    "        job_post_date datetime,\n",
    "        job_rating Float,\n",
    "        job_link TEXT,\n",
    "        job_desc TEXT,\n",
    "        company_website TEXT\n",
    "         );''')\n",
    "\n",
    "print(\"job_basic_details Table created successfully\");\n",
    "\n",
    "conn.close()"
   ]
  },
  {
   "cell_type": "code",
   "execution_count": null,
   "id": "0ceca73b",
   "metadata": {},
   "outputs": [],
   "source": [
    "#Creating 'user_basic_details' table\n",
    "conn = sqlite3.connect('JobsFinalDatabase.db')\n",
    "print(\"Opened database successfully\");\n",
    "conn.execute('''DROP TABLE IF EXISTS user_basic_details;''')\n",
    "conn.execute('''CREATE TABLE IF NOT EXISTS user_basic_details\n",
    "         (\n",
    "        user_name TEXT  ,\n",
    "        dob datetime,\n",
    "        user_location TEXT,\n",
    "        mobile_number TEXT,\n",
    "        email_id TEXT,\n",
    "        portfolio_link TEXT,\n",
    "        skillset TEXT,\n",
    "        saved_application_id TEXT,\n",
    "        certifications TEXT\n",
    "         );''')\n",
    "\n",
    "print(\"user_basic_details Table created successfully\");\n",
    "\n",
    "conn.close()"
   ]
  },
  {
   "cell_type": "code",
   "execution_count": null,
   "id": "3e0811fc",
   "metadata": {},
   "outputs": [],
   "source": [
    "#Creating 'user_login_basic_details' table\n",
    "conn = sqlite3.connect('JobsFinalDatabase.db')\n",
    "print(\"Opened database successfully\");\n",
    "conn.execute('''DROP TABLE IF EXISTS user_login_basic_details;''')\n",
    "conn.execute('''CREATE TABLE IF NOT EXISTS user_login_basic_details\n",
    "         (\n",
    "        user_platform_name TEXT  ,\n",
    "        user_password TEXT,\n",
    "        user_role TEXT\n",
    "         );''')\n",
    "\n",
    "print(\"user_login_basic_details Table created successfully\");\n",
    "\n",
    "conn.close()"
   ]
  },
  {
   "cell_type": "code",
   "execution_count": null,
   "id": "4db45c41",
   "metadata": {},
   "outputs": [],
   "source": [
    "#Insert data into job_basic_details\n",
    "conn = sqlite3.connect('JobsFinalDatabase.db')\n",
    "for row in dfdb.itertuples():\n",
    "    conn.execute('INSERT or IGNORE INTO job_basic_details(job_title, company_name, location, salary, job_type, job_post_date, job_rating, job_link, job_desc, company_website) VALUES (?,?,?,?,?,?,?,?,?,?)',(\n",
    "                row.Job_Titile, \n",
    "                row.Company,\n",
    "                row.Location,\n",
    "                row.Salary,\n",
    "                row.Job_Tyoe,\n",
    "                row.Post_Date,\n",
    "                row.Rating,\n",
    "                row.Job_URL,\n",
    "                row.Job_description,\n",
    "                row.Company_URL\n",
    "                )\n",
    "                )\n",
    "    conn.commit()\n",
    "print(\"job_basic_details Table values inserted successfully\");\n",
    "conn.close()"
   ]
  },
  {
   "cell_type": "code",
   "execution_count": null,
   "id": "4dda131f",
   "metadata": {},
   "outputs": [],
   "source": [
    "#display data for job_basic_details table\n",
    "con = sqlite3.connect('JobsFinalDatabase.db')\n",
    "q1 = (\n",
    "'''SELECT * from job_basic_details;''')\n",
    "\n",
    "r1 = pd.read_sql(q1, con)\n",
    "r1.head(1)\n",
    "#print(r1)\n",
    "r1"
   ]
  },
  {
   "cell_type": "code",
   "execution_count": null,
   "id": "728c3e62",
   "metadata": {},
   "outputs": [],
   "source": [
    "#Insert data into user_basic_details\n",
    "conn = sqlite3.connect('JobsFinalDatabase.db')\n",
    "conn.execute('INSERT or IGNORE INTO user_basic_details(user_name, dob, user_location, mobile_number, email_id, portfolio_link, skillset, saved_application_id, certifications) VALUES (?,?,?,?,?,?,?,?,?)',(\n",
    "                \"@Hilton\", \n",
    "                \"1998-04-02\",\n",
    "                \"Boston,MA,02345\",\n",
    "                \"7658904321\",\n",
    "                \"hilton.savage@gmail.com\",\n",
    "                \"www.hilton.com\",\n",
    "                \"Java, Software, Database\",\n",
    "                \"123, 234, 345\",\n",
    "                \"CFA, AWS CCP\"\n",
    "                )\n",
    "                )\n",
    "conn.commit()\n",
    "print(\"user_basic_details Table values inserted successfully\");\n",
    "conn.close()"
   ]
  },
  {
   "cell_type": "code",
   "execution_count": null,
   "id": "54376429",
   "metadata": {},
   "outputs": [],
   "source": [
    "con = sqlite3.connect('JobsFinalDatabase.db')\n",
    "q1 = (\n",
    "'''SELECT * from user_basic_details;''')\n",
    "\n",
    "r1 = pd.read_sql(q1, con)\n",
    "r1.head(1)\n",
    "#print(r1)\n",
    "r1"
   ]
  },
  {
   "cell_type": "code",
   "execution_count": null,
   "id": "7075f4e5",
   "metadata": {},
   "outputs": [],
   "source": [
    "conn = sqlite3.connect('JobsFinalDatabase.db')\n",
    "conn.execute('INSERT or IGNORE INTO user_login_basic_details(user_platform_name, user_password, user_role) VALUES (?,?,?)',(\n",
    "                \"@Hilton\", \n",
    "                \"Hilton@123\",\n",
    "                \"seeker\"\n",
    "                )\n",
    "                )\n",
    "conn.commit()\n",
    "print(\"user_login_basic_details Table values inserted successfully\");\n",
    "conn.close()"
   ]
  },
  {
   "cell_type": "code",
   "execution_count": null,
   "id": "374000a1",
   "metadata": {},
   "outputs": [],
   "source": [
    "con = sqlite3.connect('JobsFinalDatabase.db')\n",
    "q1 = (\n",
    "'''SELECT * from user_login_basic_details;''')\n",
    "\n",
    "r1 = pd.read_sql(q1, con)\n",
    "r1.head(1)\n",
    "#print(r1)\n",
    "r1"
   ]
  },
  {
   "cell_type": "code",
   "execution_count": null,
   "id": "074775cc",
   "metadata": {},
   "outputs": [],
   "source": [
    "#reading the uncleaned csv\n",
    "df = pd.read_csv(\"Jobs_1NF_Final.csv\")\n",
    "df.head()"
   ]
  },
  {
   "cell_type": "code",
   "execution_count": null,
   "id": "a2223150",
   "metadata": {},
   "outputs": [],
   "source": [
    "df['Salary']"
   ]
  },
  {
   "cell_type": "code",
   "execution_count": null,
   "id": "4bf390cb",
   "metadata": {},
   "outputs": [],
   "source": [
    "#replace all the characters \n",
    "df['Salary'] = df['Salary'].str.replace('Estimated ','').str.replace(' a year','').str.replace('From','').str.replace('-','').str.replace('a month','').str.replace('an hour','')\n",
    "df['Salary'] = df['Salary'].str.replace('Fulltime','').str.replace('\\n+1','').str.replace('Parttime','').str.replace('Up to','').str.replace('a year','').str.replace('$','')"
   ]
  },
  {
   "cell_type": "code",
   "execution_count": null,
   "id": "6611e25a",
   "metadata": {},
   "outputs": [],
   "source": [
    "df['Salary']"
   ]
  },
  {
   "cell_type": "code",
   "execution_count": null,
   "id": "a072d452",
   "metadata": {},
   "outputs": [],
   "source": [
    "df1 = df['Salary'].str.split(n=1, expand=True)\n",
    "df1.columns = ['Salary{}'.format(x+1) for x in df1.columns]\n",
    "\n",
    "df = df.join(df1)\n",
    "df"
   ]
  },
  {
   "cell_type": "code",
   "execution_count": null,
   "id": "9e4b8976",
   "metadata": {},
   "outputs": [],
   "source": [
    "#replace all the characters \n",
    "df['Salary1'] = df['Salary1'].str.replace(',','').str.replace('Up','').str.replace(' ','').str.replace('Contract','').str.replace('Internship','').str.replace('None','')\n",
    "df['Salary1'] = df['Salary1'].str.replace('.','').str.replace('K','00').str.replace('Temporary','')"
   ]
  },
  {
   "cell_type": "code",
   "execution_count": null,
   "id": "3f44a9e7",
   "metadata": {},
   "outputs": [],
   "source": [
    "df['Salary1']"
   ]
  },
  {
   "cell_type": "code",
   "execution_count": null,
   "id": "655aa624",
   "metadata": {},
   "outputs": [],
   "source": [
    "#get rid of '' error\n",
    "salaries = []\n",
    "for sal in df['Salary1']:\n",
    "    if(sal != '' and sal is not None and sal == sal):\n",
    "        sal = int(sal)\n",
    "    elif(sal == ''):\n",
    "        sal = '0'\n",
    "    else:\n",
    "        sal = sal\n",
    "    salaries.append(sal)"
   ]
  },
  {
   "cell_type": "code",
   "execution_count": null,
   "id": "ba65f739",
   "metadata": {},
   "outputs": [],
   "source": [
    "df['Salary1'] = salaries"
   ]
  },
  {
   "cell_type": "code",
   "execution_count": null,
   "id": "b97dbbf6",
   "metadata": {},
   "outputs": [],
   "source": [
    "#convert the salary1 data type from object to float\n",
    "df['Salary1'] = df['Salary1'].astype('float64') "
   ]
  },
  {
   "cell_type": "code",
   "execution_count": null,
   "id": "f8e3474d",
   "metadata": {},
   "outputs": [],
   "source": [
    "df['Salary1']"
   ]
  },
  {
   "cell_type": "code",
   "execution_count": null,
   "id": "d7151da9",
   "metadata": {},
   "outputs": [],
   "source": [
    "df['Salary2']"
   ]
  },
  {
   "cell_type": "code",
   "execution_count": null,
   "id": "772700f1",
   "metadata": {},
   "outputs": [],
   "source": [
    "#replace all the characters \n",
    "df['Salary2'] = df['Salary2'].str.replace(',','').str.replace('Up','').str.replace(' ','').str.replace('Contract','').str.replace('Internship','').str.replace('None','')\n",
    "df['Salary2'] = df['Salary2'].str.replace('.','').str.replace('K','00').str.replace('Temporary','')"
   ]
  },
  {
   "cell_type": "code",
   "execution_count": null,
   "id": "a7e90c7b",
   "metadata": {},
   "outputs": [],
   "source": [
    "df['Salary2']"
   ]
  },
  {
   "cell_type": "code",
   "execution_count": null,
   "id": "ec452ff0",
   "metadata": {},
   "outputs": [],
   "source": [
    "#get rid of '' error\n",
    "salaries1 = []\n",
    "for sal in df['Salary2']:\n",
    "    if(sal != '' and sal is not None and sal == sal):\n",
    "        sal = int(sal)\n",
    "    elif(sal == ''):\n",
    "        sal = '0'\n",
    "    else:\n",
    "        sal = sal\n",
    "    salaries1.append(sal)"
   ]
  },
  {
   "cell_type": "code",
   "execution_count": null,
   "id": "a9b34c34",
   "metadata": {},
   "outputs": [],
   "source": [
    "#update the salary1\n",
    "df['Salary2'] = salaries1"
   ]
  },
  {
   "cell_type": "code",
   "execution_count": null,
   "id": "2a4e22e5",
   "metadata": {},
   "outputs": [],
   "source": [
    "#convert the salary1 data type from object to float\n",
    "df['Salary2'] = df['Salary2'].astype('float64') "
   ]
  },
  {
   "cell_type": "code",
   "execution_count": null,
   "id": "911886b1",
   "metadata": {},
   "outputs": [],
   "source": [
    "df['Salary2']"
   ]
  },
  {
   "cell_type": "code",
   "execution_count": null,
   "id": "cf695161",
   "metadata": {},
   "outputs": [],
   "source": [
    "df"
   ]
  },
  {
   "cell_type": "code",
   "execution_count": null,
   "id": "bf143f7a",
   "metadata": {},
   "outputs": [],
   "source": [
    "#delete salary and salary2 column as we are considering only one part of the salary\n",
    "df.drop(['Salary'], axis=1, inplace=True)"
   ]
  },
  {
   "cell_type": "code",
   "execution_count": null,
   "id": "0a294201",
   "metadata": {},
   "outputs": [],
   "source": [
    "df"
   ]
  },
  {
   "cell_type": "code",
   "execution_count": null,
   "id": "631e1efb",
   "metadata": {},
   "outputs": [],
   "source": [
    "#replace the column name Salary1 with Salary\n",
    "df = df.rename({'Salary1': 'Min_salary'}, axis=1)"
   ]
  },
  {
   "cell_type": "code",
   "execution_count": null,
   "id": "780f0311",
   "metadata": {},
   "outputs": [],
   "source": [
    "#replace the column name Salary1 with Salary\n",
    "df = df.rename({'Salary2': 'Max_salary'}, axis=1)"
   ]
  },
  {
   "cell_type": "code",
   "execution_count": null,
   "id": "7858f3a2",
   "metadata": {},
   "outputs": [],
   "source": [
    "df"
   ]
  },
  {
   "cell_type": "code",
   "execution_count": null,
   "id": "5a37ed9f",
   "metadata": {},
   "outputs": [],
   "source": [
    "df.describe()"
   ]
  },
  {
   "cell_type": "code",
   "execution_count": null,
   "id": "a56c6144",
   "metadata": {},
   "outputs": [],
   "source": [
    "#fill the null values of Salary column with the mean salary\n",
    "df.fillna({\"Min_salary\":df['Min_salary'].mean(),},inplace=True)"
   ]
  },
  {
   "cell_type": "code",
   "execution_count": null,
   "id": "b1b566c3",
   "metadata": {},
   "outputs": [],
   "source": [
    "#fill the null values of Salary column with the mean salary\n",
    "df.fillna({\"Max_salary\":df['Max_salary'].mean(),},inplace=True)"
   ]
  },
  {
   "cell_type": "code",
   "execution_count": null,
   "id": "8dd125a0",
   "metadata": {},
   "outputs": [],
   "source": [
    "#Replace all the string values\n",
    "df ['Post_Date'] = df['Post_Date'].str.replace('Posted\\nPosted','').str.replace(' days ago','').str.replace('+','').str.replace(' day ago','')\n",
    "df['Post_Date'] = df['Post_Date'].str.replace('Posted\\nToday','').str.replace('Employer\\nActive 5','').str.replace('Employer\\nActive ','').str.replace('Hiring ongoing','').str.replace('Posted\\nJust posted','0')"
   ]
  },
  {
   "cell_type": "code",
   "execution_count": null,
   "id": "98f6f356",
   "metadata": {},
   "outputs": [],
   "source": [
    "#lets initialize the datetime\n",
    "today = datetime.today()\n",
    "yesterday = today - timedelta(days=1)\n",
    "one_week_ago = today - timedelta(days=7)\n",
    "thirty_days_ago = today - timedelta(days=30)\n",
    "print(today.strftime(\"%m/%d/%y\"))"
   ]
  },
  {
   "cell_type": "code",
   "execution_count": null,
   "id": "6efd5e0a",
   "metadata": {},
   "outputs": [],
   "source": [
    "#get rid of '' error\n",
    "dates = []\n",
    "for date in df['Post_Date']:\n",
    "    if(date != '' and date is not None and date == date):\n",
    "        date = (today - timedelta(days=int(date))).strftime(\"%m/%d/%y\")\n",
    "    dates.append(date)"
   ]
  },
  {
   "cell_type": "code",
   "execution_count": null,
   "id": "7e41d856",
   "metadata": {},
   "outputs": [],
   "source": [
    "#update the Post_Date\n",
    "df['Post_Date'] = dates\n",
    "# df[\"Post_Date\"] = pd.to_datetime(df[\"Post_Date\"])"
   ]
  },
  {
   "cell_type": "code",
   "execution_count": null,
   "id": "3264ca96",
   "metadata": {},
   "outputs": [],
   "source": [
    "#display the dataframe after the changes\n",
    "df"
   ]
  },
  {
   "cell_type": "code",
   "execution_count": null,
   "id": "c962b19c",
   "metadata": {},
   "outputs": [],
   "source": [
    "#fill the null values of Rating column with the mean Rating\n",
    "df.fillna({\"Rating\":df['Rating'].mean(),},inplace=True)"
   ]
  },
  {
   "cell_type": "code",
   "execution_count": null,
   "id": "ba2d1104",
   "metadata": {},
   "outputs": [],
   "source": [
    "df"
   ]
  },
  {
   "cell_type": "code",
   "execution_count": null,
   "id": "6bc7c0a7",
   "metadata": {},
   "outputs": [],
   "source": [
    "#check for the columns(Salary and Rating) that have updated with null values\n",
    "df.isna().sum()"
   ]
  },
  {
   "cell_type": "code",
   "execution_count": null,
   "id": "3d97c6cb",
   "metadata": {},
   "outputs": [],
   "source": [
    "#duplicate values\n",
    "df.duplicated()"
   ]
  },
  {
   "cell_type": "code",
   "execution_count": null,
   "id": "aab775c1",
   "metadata": {},
   "outputs": [],
   "source": [
    "#initialize the values of duplicated\n",
    "duplicate = df[df.duplicated()]"
   ]
  },
  {
   "cell_type": "code",
   "execution_count": null,
   "id": "7916620a",
   "metadata": {},
   "outputs": [],
   "source": [
    "#display all the duplicate values\n",
    "duplicate"
   ]
  },
  {
   "cell_type": "code",
   "execution_count": null,
   "id": "3121a5a8",
   "metadata": {},
   "outputs": [],
   "source": [
    "#Drop all the duplicate vlaues\n",
    "df = df.drop_duplicates(keep='first')"
   ]
  },
  {
   "cell_type": "code",
   "execution_count": null,
   "id": "3a55116f",
   "metadata": {},
   "outputs": [],
   "source": [
    "df"
   ]
  },
  {
   "cell_type": "code",
   "execution_count": null,
   "id": "26f387fa",
   "metadata": {},
   "outputs": [],
   "source": [
    "#drop all the null values\n",
    "df = df.dropna()"
   ]
  },
  {
   "cell_type": "code",
   "execution_count": null,
   "id": "37e4fe17",
   "metadata": {},
   "outputs": [],
   "source": [
    "df"
   ]
  },
  {
   "cell_type": "code",
   "execution_count": null,
   "id": "774584ef",
   "metadata": {},
   "outputs": [],
   "source": [
    "#check if there are any null values\n",
    "df.isna().sum()"
   ]
  },
  {
   "cell_type": "code",
   "execution_count": null,
   "id": "08a6429b",
   "metadata": {},
   "outputs": [],
   "source": [
    "df"
   ]
  },
  {
   "cell_type": "code",
   "execution_count": null,
   "id": "9d109ec9",
   "metadata": {},
   "outputs": [],
   "source": [
    "#export the cleaned data into a csv file\n",
    "df.to_csv(\"JobsFinalDatabase.csv\")"
   ]
  },
  {
   "cell_type": "code",
   "execution_count": null,
   "id": "5f4bc265",
   "metadata": {},
   "outputs": [],
   "source": [
    "#import statements\n",
    "import sqlite3\n",
    "import plotly.express as px"
   ]
  },
  {
   "cell_type": "code",
   "execution_count": null,
   "id": "686b731f",
   "metadata": {},
   "outputs": [],
   "source": [
    "conn = sqlite3.connect('JobsFinalDatabase.db')\n",
    "print(\"Opened database successfully\");\n",
    "conn.execute('''DROP TABLE IF EXISTS job_details;''')\n",
    "conn.execute('''CREATE TABLE IF NOT EXISTS job_details\n",
    "         (\n",
    "          job_id INTEGER PRIMARY KEY,\n",
    "          job_title TEXT,\n",
    "          company_name TEXT,\n",
    "          job_type TEXT,\n",
    "          job_post_date datetime,\n",
    "          job_rating Float,\n",
    "          job_link TEXT,\n",
    "          job_desc TEXT,\n",
    "          company_website TEXT\n",
    "         );''')\n",
    "\n",
    "print(\"job_details Table created successfully\");\n",
    "\n",
    "conn.close()"
   ]
  },
  {
   "cell_type": "code",
   "execution_count": null,
   "id": "83f5a02a",
   "metadata": {},
   "outputs": [],
   "source": [
    "conn = sqlite3.connect('JobsFinalDatabase.db')\n",
    "print(\"Opened database successfully\");\n",
    "conn.execute('''DROP TABLE IF EXISTS salary_details;''')\n",
    "conn.execute('''CREATE TABLE IF NOT EXISTS salary_details\n",
    "         (\n",
    "          job_id INTEGER PRIMARY KEY ,\n",
    "          min_salary Float,\n",
    "          max_salary Float,\n",
    "          FOREIGN KEY (job_id) REFERENCES job_details(job_id)\n",
    "         );''')\n",
    "\n",
    "print(\"salary_details Table created successfully\");\n",
    "\n",
    "conn.close()"
   ]
  },
  {
   "cell_type": "code",
   "execution_count": null,
   "id": "d8f4fa83",
   "metadata": {},
   "outputs": [],
   "source": []
  },
  {
   "cell_type": "code",
   "execution_count": null,
   "id": "ad28c73c",
   "metadata": {},
   "outputs": [],
   "source": [
    "conn = sqlite3.connect('JobsFinalDatabase.db')\n",
    "print(\"Opened database successfully\");\n",
    "conn.execute('''DROP TABLE IF EXISTS job_location_details;''')\n",
    "conn.execute('''CREATE TABLE IF NOT EXISTS job_location_details\n",
    "         (\n",
    "          job_id INTEGER PRIMARY KEY ,\n",
    "          city TEXT,\n",
    "          state TEXT,\n",
    "          zipcode INTEGER,\n",
    "          FOREIGN KEY (job_id) REFERENCES job_details(job_id)\n",
    "         );''')\n",
    "\n",
    "print(\"job_location_details Table created successfully\");\n",
    "\n",
    "conn.close()"
   ]
  },
  {
   "cell_type": "code",
   "execution_count": null,
   "id": "ea981937",
   "metadata": {},
   "outputs": [],
   "source": [
    "conn = sqlite3.connect('JobsFinalDatabase.db')\n",
    "print(\"Opened database successfully\");\n",
    "conn.execute('''DROP TABLE IF EXISTS user_login_details;''')\n",
    "conn.execute('''CREATE TABLE IF NOT EXISTS user_login_details\n",
    "         (\n",
    "          user_platform_name TEXT PRIMARY KEY ,\n",
    "          user_password TEXT,\n",
    "          user_role TEXT\n",
    "         );''')\n",
    "\n",
    "print(\"user_login_details Table created successfully\");\n",
    "\n",
    "conn.close()"
   ]
  },
  {
   "cell_type": "code",
   "execution_count": null,
   "id": "e60e8e6e",
   "metadata": {},
   "outputs": [],
   "source": [
    "conn = sqlite3.connect('JobsFinalDatabase.db')\n",
    "print(\"Opened database successfully\");\n",
    "conn.execute('''DROP TABLE IF EXISTS user_details;''')\n",
    "conn.execute('''CREATE TABLE IF NOT EXISTS user_details\n",
    "         (\n",
    "          user_platform_name TEXT PRIMARY KEY ,\n",
    "          user_first_name TEXT,\n",
    "          user_last_name TEXT,\n",
    "          dob datetime,\n",
    "          mobile_number TEXT,\n",
    "          email_id TEXT,\n",
    "          portfolio_link TEXT,\n",
    "          FOREIGN KEY (user_platform_name) REFERENCES user_login_details(user_platform_name)\n",
    "         );''')\n",
    "\n",
    "print(\"user_details Table created successfully\");\n",
    "\n",
    "conn.close()"
   ]
  },
  {
   "cell_type": "code",
   "execution_count": null,
   "id": "dbc950eb",
   "metadata": {},
   "outputs": [],
   "source": [
    "conn = sqlite3.connect('JobsFinalDatabase.db')\n",
    "print(\"Opened database successfully\");\n",
    "conn.execute('''DROP TABLE IF EXISTS user_skillset_details;''')\n",
    "conn.execute('''CREATE TABLE IF NOT EXISTS user_skillset_details\n",
    "         (\n",
    "          user_platform_name TEXT PRIMARY KEY ,\n",
    "          skillset TEXT,\n",
    "        FOREIGN KEY (user_platform_name) REFERENCES user_details(user_platform_name)\n",
    "         );''')\n",
    "\n",
    "print(\"user_skillset_details Table created successfully\");\n",
    "\n",
    "conn.close()"
   ]
  },
  {
   "cell_type": "code",
   "execution_count": null,
   "id": "1cda612e",
   "metadata": {},
   "outputs": [],
   "source": [
    "conn = sqlite3.connect('JobsFinalDatabase.db')\n",
    "print(\"Opened database successfully\");\n",
    "conn.execute('''DROP TABLE IF EXISTS user_certifications;''')\n",
    "conn.execute('''CREATE TABLE IF NOT EXISTS user_certifications\n",
    "         (\n",
    "          user_platform_name TEXT PRIMARY KEY ,\n",
    "     certification TEXT,\n",
    "        FOREIGN KEY (user_platform_name) REFERENCES user_details(user_platform_name)\n",
    "         );''')\n",
    "\n",
    "print(\"user_certifications Table created successfully\");\n",
    "\n",
    "conn.close()"
   ]
  },
  {
   "cell_type": "code",
   "execution_count": null,
   "id": "271f8246",
   "metadata": {},
   "outputs": [],
   "source": [
    "conn = sqlite3.connect('JobsFinalDatabase.db')\n",
    "print(\"Opened database successfully\");\n",
    "conn.execute('''DROP TABLE IF EXISTS user_saved_jobs;''')\n",
    "conn.execute('''CREATE TABLE IF NOT EXISTS user_saved_jobs\n",
    "         (\n",
    "          user_platform_name TEXT PRIMARY KEY ,\n",
    "        saved_application_id INTEGER,\n",
    "        FOREIGN KEY (user_platform_name) REFERENCES user_details(user_platform_name)\n",
    "         );''')\n",
    "\n",
    "print(\"user_saved_jobs Table created successfully\");\n",
    "\n",
    "conn.close()"
   ]
  },
  {
   "cell_type": "code",
   "execution_count": null,
   "id": "9e39c5be",
   "metadata": {},
   "outputs": [],
   "source": [
    "conn = sqlite3.connect('JobsFinalDatabase.db')\n",
    "print(\"Opened database successfully\");\n",
    "conn.execute('''DROP TABLE IF EXISTS user_location_details;''')\n",
    "conn.execute('''CREATE TABLE IF NOT EXISTS user_location_details\n",
    "         (\n",
    "          user_platform_name TEXT PRIMARY KEY ,\n",
    "          city TEXT,\n",
    "          state TEXT,\n",
    "          zipcode INTEGER,\n",
    "        FOREIGN KEY (user_platform_name) REFERENCES user_details(user_platform_name)\n",
    "         );''')\n",
    "\n",
    "print(\"user_location_details Table created successfully\");\n",
    "\n",
    "conn.close()"
   ]
  },
  {
   "cell_type": "code",
   "execution_count": null,
   "id": "855767b8",
   "metadata": {},
   "outputs": [],
   "source": [
    "conn = sqlite3.connect('JobsFinalDatabase.db')\n",
    "i = 0\n",
    "for row in df.itertuples():\n",
    "    i += 1\n",
    "    conn.execute('INSERT or IGNORE INTO job_details(job_id, job_title, company_name, job_type, job_post_date, job_rating, job_link, job_desc, company_website) VALUES (?,?,?,?,?,?,?,?,?)',(\n",
    "                i,\n",
    "                row.Job_Titile, \n",
    "                row.Company,\n",
    "                row.Job_Tyoe,\n",
    "                row.Post_Date,\n",
    "                row.Rating,\n",
    "                row.Job_URL,\n",
    "                row.Job_description,\n",
    "                row.Company_URL\n",
    "                )\n",
    "                )\n",
    "    conn.commit()\n",
    "print(\"job_details Table values inserted successfully\");\n",
    "conn.close()"
   ]
  },
  {
   "cell_type": "code",
   "execution_count": null,
   "id": "f62c3387",
   "metadata": {},
   "outputs": [],
   "source": [
    "con = sqlite3.connect('JobsFinalDatabase.db')\n",
    "q1 = (\n",
    "'''SELECT * from job_details;''')\n",
    "\n",
    "r1 = pd.read_sql(q1, con)\n",
    "r1.head(1)\n",
    "#print(r1)\n",
    "r1"
   ]
  },
  {
   "cell_type": "code",
   "execution_count": null,
   "id": "240525f1",
   "metadata": {},
   "outputs": [],
   "source": [
    "conn = sqlite3.connect('JobsFinalDatabase.db')\n",
    "i = 0\n",
    "for row in df.itertuples():\n",
    "    i += 1\n",
    "    conn.execute('INSERT or IGNORE INTO salary_details(job_id, min_salary, max_salary) VALUES (?,?,?)',(\n",
    "                i,\n",
    "                row.Min_salary, \n",
    "                row.Max_salary\n",
    "                )\n",
    "                )\n",
    "    conn.commit()\n",
    "print(\"salary_details Table values inserted successfully\");\n",
    "conn.close()"
   ]
  },
  {
   "cell_type": "code",
   "execution_count": null,
   "id": "a68ba66b",
   "metadata": {},
   "outputs": [],
   "source": [
    "conn = sqlite3.connect('JobsFinalDatabase.db')\n",
    "i = 0\n",
    "for row in df.itertuples():\n",
    "    i+=1\n",
    "    conn.execute('INSERT or IGNORE INTO job_location_details(job_id, city, state, zipcode) VALUES (?,?,?,?)',(\n",
    "                i,\n",
    "                row.City, \n",
    "                row.State,\n",
    "                row.ZipCode\n",
    "                )\n",
    "                )\n",
    "    conn.commit()\n",
    "print(\"job_location_details Table values inserted successfully\");\n",
    "conn.close()"
   ]
  },
  {
   "cell_type": "code",
   "execution_count": null,
   "id": "5583eacf",
   "metadata": {},
   "outputs": [],
   "source": [
    "conn = sqlite3.connect('JobsFinalDatabase.db')\n",
    "print(\"Opened database successfully\");\n",
    "conn.execute('''DROP TABLE IF EXISTS company_details;''')\n",
    "conn.execute('''CREATE TABLE IF NOT EXISTS company_details\n",
    "         (\n",
    "          company_name TEXT PRIMARY KEY ,\n",
    "          company_website TEXT\n",
    "         );''')\n",
    "\n",
    "print(\"company_details Table created successfully\");\n",
    "\n",
    "conn.close()"
   ]
  },
  {
   "cell_type": "code",
   "execution_count": null,
   "id": "093bf36b",
   "metadata": {},
   "outputs": [],
   "source": [
    "conn = sqlite3.connect('JobsFinalDatabase.db')\n",
    "i = 0\n",
    "for row in df.itertuples():\n",
    "    i+=1\n",
    "    conn.execute('INSERT or IGNORE INTO company_details(company_name, company_website) VALUES (?,?)',(\n",
    "                row.Company, \n",
    "                row.Company_URL\n",
    "                )\n",
    "                )\n",
    "    conn.commit()\n",
    "print(\"company_details Table values inserted successfully\");\n",
    "conn.close()"
   ]
  },
  {
   "cell_type": "code",
   "execution_count": null,
   "id": "f790b89e",
   "metadata": {},
   "outputs": [],
   "source": [
    "conn = sqlite3.connect('JobsFinalDatabase.db')\n",
    "conn.execute('INSERT or IGNORE INTO user_login_details(user_platform_name, user_password, user_role) VALUES (?,?,?)',(\n",
    "                \"@Hilton\", \n",
    "                \"Hilton@123\",\n",
    "                \"seeker\"\n",
    "                )\n",
    "                )\n",
    "conn.commit()\n",
    "print(\"user_login_details Table values inserted successfully\");\n",
    "conn.close()"
   ]
  },
  {
   "cell_type": "code",
   "execution_count": null,
   "id": "af5cf91a",
   "metadata": {},
   "outputs": [],
   "source": [
    "conn = sqlite3.connect('JobsFinalDatabase.db')\n",
    "conn.execute('INSERT or IGNORE INTO user_details(user_platform_name, user_first_name, user_last_name, dob, mobile_number, email_id, portfolio_link) VALUES (?,?,?,?,?,?,?)',(\n",
    "                \"@Hilton\", \n",
    "                \"Hilton\",\n",
    "                \"Benson\",\n",
    "                \"1998-04-02\",\n",
    "                \"7658904321\",\n",
    "                \"hilton.savage@gmail.com\",\n",
    "                \"www.hilton.com\"\n",
    "                )\n",
    "                )\n",
    "conn.commit()\n",
    "print(\"user_details Table values inserted successfully\");\n",
    "conn.close()"
   ]
  },
  {
   "cell_type": "code",
   "execution_count": null,
   "id": "1eac3832",
   "metadata": {},
   "outputs": [],
   "source": [
    "conn = sqlite3.connect('JobsFinalDatabase.db')\n",
    "conn.execute('INSERT or IGNORE INTO user_skillset_details(user_platform_name, skillset) VALUES (?,?)',(\n",
    "                \"@Hilton\", \n",
    "                \"Java\",\n",
    "                )\n",
    "                )\n",
    "conn.execute('INSERT or IGNORE INTO user_skillset_details(user_platform_name, skillset) VALUES (?,?)',(\n",
    "                \"@Hilton\", \n",
    "                \"Software\",\n",
    "                )\n",
    "                )\n",
    "conn.commit()\n",
    "print(\"user_skillset_details Table values inserted successfully\");\n",
    "conn.close()"
   ]
  },
  {
   "cell_type": "code",
   "execution_count": null,
   "id": "da3fdf18",
   "metadata": {},
   "outputs": [],
   "source": [
    "conn = sqlite3.connect('JobsFinalDatabase.db')\n",
    "conn.execute('INSERT or IGNORE INTO user_certifications(user_platform_name, certification) VALUES (?,?)',(\n",
    "                \"@Hilton\", \n",
    "                \"AWS CCP\",\n",
    "                )\n",
    "                )\n",
    "conn.execute('INSERT or IGNORE INTO user_certifications(user_platform_name, certification) VALUES (?,?)',(\n",
    "                \"@Hilton\", \n",
    "                \"CFA\",\n",
    "                )\n",
    "                )\n",
    "conn.commit()\n",
    "print(\"user_certifications Table values inserted successfully\");\n",
    "conn.close()"
   ]
  },
  {
   "cell_type": "code",
   "execution_count": null,
   "id": "62484ec4",
   "metadata": {},
   "outputs": [],
   "source": [
    "conn = sqlite3.connect('JobsFinalDatabase.db')\n",
    "conn.execute('INSERT or IGNORE INTO user_saved_jobs(user_platform_name, saved_application_id) VALUES (?,?)',(\n",
    "                \"@Hilton\", \n",
    "                1,\n",
    "                )\n",
    "                )\n",
    "conn.execute('INSERT or IGNORE INTO user_saved_jobs(user_platform_name, saved_application_id) VALUES (?,?)',(\n",
    "                \"@Hilton\", \n",
    "                200,\n",
    "                )\n",
    "                )\n",
    "conn.commit()\n",
    "print(\"user_saved_jobs Table values inserted successfully\");\n",
    "conn.close()"
   ]
  },
  {
   "cell_type": "code",
   "execution_count": null,
   "id": "301a0ced",
   "metadata": {},
   "outputs": [],
   "source": [
    "conn = sqlite3.connect('JobsFinalDatabase.db')\n",
    "conn.execute('INSERT or IGNORE INTO user_location_details(user_platform_name, city, state, zipcode) VALUES (?,?,?,?)',(\n",
    "                \"@Hilton\", \n",
    "                \"Boston\",\n",
    "                \"MA\",\n",
    "                \"01234\"\n",
    "                )\n",
    "                )\n",
    "conn.commit()\n",
    "print(\"user_location_details Table values inserted successfully\");\n",
    "conn.close()"
   ]
  },
  {
   "cell_type": "code",
   "execution_count": null,
   "id": "98d21572",
   "metadata": {},
   "outputs": [],
   "source": [
    "#3NF\n",
    "conn = sqlite3.connect('JobsFinalDatabase.db')\n",
    "print(\"Opened database successfully\");\n",
    "conn.execute('''DROP TABLE IF EXISTS company_details;''')\n",
    "conn.execute('''CREATE TABLE IF NOT EXISTS company_details\n",
    "         (\n",
    "          company_name TEXT PRIMARY KEY ,\n",
    "          company_website TEXT\n",
    "         );''')\n",
    "\n",
    "print(\"company_details Table created successfully\");\n",
    "\n",
    "conn.close()"
   ]
  },
  {
   "cell_type": "code",
   "execution_count": null,
   "id": "d78e0271",
   "metadata": {},
   "outputs": [],
   "source": [
    "conn = sqlite3.connect('JobsFinalDatabase.db')\n",
    "i = 0\n",
    "for row in df.itertuples():\n",
    "    i+=1\n",
    "    conn.execute('INSERT or IGNORE INTO company_details(company_name, company_website) VALUES (?,?)',(\n",
    "                row.Company, \n",
    "                row.Company_URL\n",
    "                )\n",
    "                )\n",
    "    conn.commit()\n",
    "print(\"company_details Table values inserted successfully\");\n",
    "conn.close()"
   ]
  },
  {
   "cell_type": "code",
   "execution_count": null,
   "id": "c1b87898",
   "metadata": {},
   "outputs": [],
   "source": [
    "con = sqlite3.connect('JobsFinalDatabase.db')\n",
    "q1 = (\n",
    "'''SELECT * from company_details;''')\n",
    "\n",
    "r1 = pd.read_sql(q1, con)\n",
    "r1.head(1)\n",
    "#print(r1)\n",
    "r1"
   ]
  },
  {
   "cell_type": "code",
   "execution_count": null,
   "id": "b604a9f1",
   "metadata": {},
   "outputs": [],
   "source": [
    "## Query 2\n",
    "con = sqlite3.connect('JobsFinalDatabase.db')\n",
    "con.execute (\n",
    "'''Create View analyst_jobs as select c.company_name, avg(j.job_rating) from company_details c inner join job_details j on c.company_name = j.company_name group by c.company_name having avg(j.job_rating) > 2.0 and avg(j.job_rating) < 4.0;''')\n",
    "q1 = ('''Select * from analyst_jobs''')\n",
    "r3 = pd.read_sql(q1, con)\n",
    "r3.head(1)\n",
    "#print(r1)\n",
    "r3"
   ]
  },
  {
   "cell_type": "code",
   "execution_count": null,
   "id": "741990ef",
   "metadata": {},
   "outputs": [],
   "source": [
    "##Query 1\n",
    "con = sqlite3.connect('JobsFinalDatabase.db')\n",
    "con.execute (\n",
    "'''create view jobs_rating as Select j.job_title, j.job_link, l.city || ', ' ||  l.state || ', ' ||  l.zipcode as location, s.min_salary as salary, j.job_post_date, j.job_desc, j.job_rating, j.job_type from job_details j inner join salary_details s on j.job_id = s.job_id inner join job_location_details l on j.job_id = l.job_id where j.job_title LIKE \"%Analyst%\";''')\n",
    "\n",
    "q1 = ('''Select * from jobs_rating''')\n",
    "r3 = pd.read_sql(q1, con)\n",
    "r3.head(1)\n",
    "#print(r1)\n",
    "r3"
   ]
  },
  {
   "cell_type": "code",
   "execution_count": null,
   "id": "67e8b93c",
   "metadata": {},
   "outputs": [],
   "source": [
    "## Query 3\n",
    "con = sqlite3.connect('JobsFinalDatabase.db')\n",
    "con.execute (\n",
    "'''create view job_location as select c.company_name, c.company_website, l.city || ', ' || l.state || ', ' || l.zipcode as location from company_details c inner join job_details j on c.company_name = j.company_name inner join job_location_details l on j.job_id = l.job_id where l.state LIKE \"%MA%\";''')\n",
    "q1 = ('''Select * from job_location''')\n",
    "r3 = pd.read_sql(q1, con)\n",
    "r3.head(1)\n",
    "#print(r1)\n",
    "r3"
   ]
  },
  {
   "cell_type": "code",
   "execution_count": null,
   "id": "ad286d38",
   "metadata": {},
   "outputs": [],
   "source": [
    "## Query 4\n",
    "\n",
    "con = sqlite3.connect('JobsFinalDatabase.db')\n",
    "con.execute (\n",
    "'''create view software_jobs as select j.job_title, j.job_link, l.city || ', ' || l.state || ', ' || l.zipcode as location, s.min_salary as salary, j.job_rating, j.job_type from job_details j inner join salary_details s on j.job_id = s.job_id inner join job_location_details l on j.job_id = l.job_id where j.job_desc LIKE \"%Software%\" ORDER BY j.job_rating desc limit 5;''')\n",
    "\n",
    "q1 = ('''Select * from software_jobs''')\n",
    "r3 = pd.read_sql(q1, con)\n",
    "r3.head(1)\n",
    "#print(r1)\n",
    "r3"
   ]
  },
  {
   "cell_type": "code",
   "execution_count": null,
   "id": "351add1e",
   "metadata": {},
   "outputs": [],
   "source": [
    "## Query 5\n",
    "\n",
    "con = sqlite3.connect('JobsFinalDatabase.db')\n",
    "con.execute (\n",
    "'''create view intern_jobs as Select j.job_title, j.job_link, j.job_type, s.min_salary as salary from job_details j inner join salary_details s on j.job_id = s.job_id where j.job_type LIKE \"%Full-time%\" and j.job_title LIKE \"%Intern%\";''')\n",
    "\n",
    "q1 = ('''Select * from intern_jobs''')\n",
    "r3 = pd.read_sql(q1, con)\n",
    "r3.head(1)\n",
    "#print(r1)\n",
    "r3"
   ]
  },
  {
   "cell_type": "code",
   "execution_count": null,
   "id": "01e46005",
   "metadata": {},
   "outputs": [],
   "source": [
    "## Query 6\n",
    "\n",
    "con = sqlite3.connect('JobsFinalDatabase.db')\n",
    "con.execute (\n",
    "'''create view fullstack_jobs as select c.company_name from company_details c inner join job_details j on c.company_name = j.company_name where j.job_title LIKE \"%Full Stack%\" group by c.company_name having max(j.job_rating) > 4;''')\n",
    "\n",
    "q1 = ('''Select * from fullstack_jobs''')\n",
    "r3 = pd.read_sql(q1, con)\n",
    "r3.head(1)\n",
    "#print(r1)\n",
    "r3"
   ]
  },
  {
   "cell_type": "code",
   "execution_count": null,
   "id": "bc6a5d82",
   "metadata": {},
   "outputs": [],
   "source": [
    "## Query 7\n",
    "\n",
    "con = sqlite3.connect('JobsFinalDatabase.db')\n",
    "con.execute (\n",
    "'''create view remote_jobs as select j.job_title, c.company_name, j.job_link, l.city || ', ' || l.state || ', ' ||  l.zipcode as location, s.min_salary as salary from job_details j left join company_details c on c.company_name = j.company_name inner join salary_details s on j.job_id = s.job_id inner join job_location_details l on j.job_id = l.job_id where j.job_title LIKE \"%Remote%\" and s.min_salary >= 70000;''')\n",
    "\n",
    "q1 = ('''Select * from remote_jobs''')\n",
    "r3 = pd.read_sql(q1, con)\n",
    "r3.head(1)\n",
    "#print(r1)\n",
    "r3"
   ]
  },
  {
   "cell_type": "code",
   "execution_count": null,
   "id": "ee9c89bd",
   "metadata": {},
   "outputs": [],
   "source": [
    "## Query 8\n",
    "\n",
    "con = sqlite3.connect('JobsFinalDatabase.db')\n",
    "con.execute (\n",
    "'''create view jobs_location as select j.company_name, j.job_type, l.city || ', ' || l.state || ', ' || l.zipcode as location from job_details j inner join job_location_details l where j.job_type = \"Internship\" and l.city LIKE \"%Boston%\";''')\n",
    "\n",
    "q1 = ('''Select * from jobs_location''')\n",
    "r3 = pd.read_sql(q1, con)\n",
    "r3.head(1)\n",
    "#print(r1)\n",
    "r3"
   ]
  },
  {
   "cell_type": "code",
   "execution_count": null,
   "id": "a93f7f33",
   "metadata": {},
   "outputs": [],
   "source": [
    "## Query 9\n",
    "\n",
    "con = sqlite3.connect('JobsFinalDatabase.db')\n",
    "con.execute (\n",
    "'''create view developer_jobs as select j.job_title, AVG(j.job_rating), c.company_name from job_details j inner join company_details c on j.company_name = c.company_name where j.job_title LIKE \"%Developer%\" group by j.job_title, c.company_name;''')\n",
    "\n",
    "q1 = ('''Select * from developer_jobs''')\n",
    "r3 = pd.read_sql(q1, con)\n",
    "r3.head(1)\n",
    "#print(r1)\n",
    "r3"
   ]
  },
  {
   "cell_type": "code",
   "execution_count": null,
   "id": "0b180f14",
   "metadata": {},
   "outputs": [],
   "source": [
    "## Query 10\n",
    "\n",
    "con = sqlite3.connect('JobsFinalDatabase.db')\n",
    "con.execute (\n",
    "'''create view software_engineer_jobs as select l.city || ', ' || l.state || ', ' || l.zipcode as Location from job_location_details l inner join job_details j on l.job_id = j.job_id where j.job_type = \"Internship\" and j.job_title LIKE \"%Software Engineer%\";''')\n",
    "\n",
    "q1 = ('''Select * from software_engineer_jobs''')\n",
    "r3 = pd.read_sql(q1, con)\n",
    "r3.head(1)\n",
    "#print(r1)\n",
    "r3"
   ]
  },
  {
   "cell_type": "code",
   "execution_count": null,
   "id": "b7a88beb",
   "metadata": {},
   "outputs": [],
   "source": [
    "## Query 11\n",
    "\n",
    "con = sqlite3.connect('JobsFinalDatabase.db')\n",
    "con.execute (\n",
    "'''create view finance_jobs as select j.job_link as URL from job_details j where job_title LIKE \"%Java%\" UNION Select c.company_website as URL from company_details c where c.company_name LIKE \"%Cigna%\";''')\n",
    "\n",
    "q1 = ('''Select * from finance_jobs''')\n",
    "r3 = pd.read_sql(q1, con)\n",
    "r3.head(1)\n",
    "#print(r1)\n",
    "r3"
   ]
  },
  {
   "cell_type": "code",
   "execution_count": null,
   "id": "6362ccdf",
   "metadata": {},
   "outputs": [],
   "source": [
    "## Query 12\n",
    "\n",
    "con = sqlite3.connect('JobsFinalDatabase.db')\n",
    "con.execute (\n",
    "'''create view user_skillset as select j.job_title, j.job_link, s.min_salary as salary from job_details j inner join salary_details s on j.job_id = s.job_id where j.job_title LIKE \"%Co-op%\" group by j.job_title,s.min_salary, j.job_link having avg(j.job_rating) > 3.0;''')\n",
    "\n",
    "q1 = ('''select * from user_skillset''')\n",
    "r3 = pd.read_sql(q1, con)\n",
    "r3.head(1)\n",
    "#print(r1)\n",
    "r3"
   ]
  },
  {
   "cell_type": "code",
   "execution_count": null,
   "id": "14c4ce1f",
   "metadata": {},
   "outputs": [],
   "source": [
    "## Query 13\n",
    "\n",
    "con = sqlite3.connect('JobsFinalDatabase.db')\n",
    "con.execute (\n",
    "'''create view jobs_postings as select j.job_title, j.job_link, j.job_post_date from job_details j where j.job_post_date >= DATE('now', '-30 day');''')\n",
    "\n",
    "q1 = ('''select * from jobs_postings''')\n",
    "r3 = pd.read_sql(q1, con)\n",
    "r3.head(1)\n",
    "#print(r1)\n",
    "r3"
   ]
  },
  {
   "cell_type": "code",
   "execution_count": null,
   "id": "f737d90a",
   "metadata": {},
   "outputs": [],
   "source": [
    "## Query 14\n",
    "\n",
    "con = sqlite3.connect('JobsFinalDatabase.db')\n",
    "con.execute (\n",
    "'''create view job_roles as select j.job_title, l.city || ', ' || l.state || ', ' || l.zipcode as location, j.job_desc, j.job_type from job_details j inner join job_location_details l on j.job_id = l.job_id where j.job_type = \"Contract\";''')\n",
    "\n",
    "q1 = ('''select * from job_roles''')\n",
    "r3 = pd.read_sql(q1, con)\n",
    "r3.head(1)\n",
    "#print(r1)\n",
    "r3"
   ]
  },
  {
   "cell_type": "code",
   "execution_count": null,
   "id": "99f5ab2b",
   "metadata": {},
   "outputs": [],
   "source": [
    "## Query 15\n",
    "\n",
    "con = sqlite3.connect('JobsFinalDatabase.db')\n",
    "con.execute (\n",
    "'''create view software_engg_jobs as select j.job_title, j.job_link, c.company_website, j.job_type, s.min_salary as salary, l.city || ', ' || l.state || ', ' || l.zipcode as location from job_details j inner join company_details c on j.company_name = c.company_name inner join salary_details s on j.job_id = s.job_id inner join job_location_details l on j.job_id = l.job_id where l.state LIKE \"%MA%\" and j.job_title LIKE \"%Software%\";''')\n",
    "\n",
    "q1 = ('''select * from software_engg_jobs''')\n",
    "r3 = pd.read_sql(q1, con)\n",
    "r3.head(1)\n",
    "#print(r1)\n",
    "r3"
   ]
  },
  {
   "cell_type": "code",
   "execution_count": null,
   "id": "c0b6a97e",
   "metadata": {},
   "outputs": [],
   "source": []
  }
 ],
 "metadata": {
  "kernelspec": {
   "display_name": "Python 3 (ipykernel)",
   "language": "python",
   "name": "python3"
  },
  "language_info": {
   "codemirror_mode": {
    "name": "ipython",
    "version": 3
   },
   "file_extension": ".py",
   "mimetype": "text/x-python",
   "name": "python",
   "nbconvert_exporter": "python",
   "pygments_lexer": "ipython3",
   "version": "3.9.12"
  }
 },
 "nbformat": 4,
 "nbformat_minor": 5
}
