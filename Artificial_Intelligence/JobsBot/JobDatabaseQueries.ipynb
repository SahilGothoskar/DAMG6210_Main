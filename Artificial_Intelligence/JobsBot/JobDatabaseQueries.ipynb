{
 "cells": [
  {
   "cell_type": "markdown",
   "id": "f16cedde",
   "metadata": {},
   "source": [
    "#### 1. Select jobs based in Boston. \n",
    "\n",
    "`SELECT title, description, date_posted, link FROM JobData  \n",
    "WHERE location_id = (SELECT id FROM Location WHERE city='Boston');`\n",
    "\n",
    "![title](images/jobsquery1.png)"
   ]
  },
  {
   "cell_type": "markdown",
   "id": "91d5dd2a",
   "metadata": {},
   "source": [
    "#### 2. Select jobs based in Massachusetts. \n",
    "\n",
    "`SELECT title, description, date_posted, link FROM JobData  \n",
    "WHERE location_id IN (SELECT id FROM Location WHERE state='MA'); `\n",
    "\n",
    "![title](images/jobsquery2.png)"
   ]
  },
  {
   "cell_type": "markdown",
   "id": "9655460b",
   "metadata": {},
   "source": [
    "#### 3. Select Remote jobs. \n",
    "\n",
    "`SELECT title, description, date_posted, link  \n",
    "FROM JobData WHERE location_id IN (SELECT id FROM Location WHERE city='Remote'); `\n",
    "\n",
    "![title](images/jobsquery3.png)"
   ]
  },
  {
   "cell_type": "markdown",
   "id": "93cd5cac",
   "metadata": {},
   "source": [
    "#### 4.Select the top 3 locations with low tax rates.  \n",
    "\n",
    "`SELECT city FROM Location\n",
    "WHERE state IN \n",
    "(SELECT * FROM (SELECT state FROM state_data ORDER BY tax_rate ASC LIMIT 3) AS state_table);`\n",
    "\n",
    "![title](images/jobsquery4.png)"
   ]
  },
  {
   "cell_type": "markdown",
   "id": "4ee089d9",
   "metadata": {},
   "source": [
    "#### 5.Select jobs at a location with the lowest tax rate.  \n",
    "\n",
    "`SELECT title, description, date_posted, link  \n",
    "FROM JobData \n",
    "WHERE location_id \n",
    "IN (SELECT id FROM Location \n",
    "WHERE state IN \n",
    "(SELECT * FROM (SELECT state FROM state_data ORDER BY tax_rate ASC LIMIT 2) AS state_table); `\n",
    "\n",
    "![title](images/jobsquery5.png)"
   ]
  },
  {
   "cell_type": "markdown",
   "id": "50278013",
   "metadata": {},
   "source": [
    "#### 6.Select jobs at top 3 locations with low cost of living. \n",
    "\n",
    "`SELECT title, description, date_posted, link \n",
    "FROM JobData WHERE location_id IN \n",
    "(SELECT * FROM (SELECT id \tFROM Location ORDER BY cost_of_living_index ASC LIMIT 3) AS location_table);`\n",
    "\n",
    "![title](images/jobsquery6.png)"
   ]
  },
  {
   "cell_type": "markdown",
   "id": "12a3926c",
   "metadata": {},
   "source": [
    "#### 7. Select jobs from companies with size -> 51 to 200 Employees \n",
    "\n",
    "`SELECT title, description, date_posted, link \n",
    "FROM JobData WHERE company_id IN (SELECT id FROM Company WHERE size='51 to 200 Employees'); `\n",
    "\n",
    "![title](images/jobsquery7.png)"
   ]
  },
  {
   "cell_type": "markdown",
   "id": "3d573899",
   "metadata": {},
   "source": [
    "#### 8.Select jobs from Apple. \n",
    "\n",
    "`SELECT title, description, date_posted, link \n",
    "FROM JobData WHERE company_id IN (SELECT id FROM Company WHERE name='Apple'); `\n",
    "\n",
    "![title](images/jobsquery8.png)"
   ]
  },
  {
   "cell_type": "markdown",
   "id": "de296d3e",
   "metadata": {},
   "source": [
    "#### 9.Select internships based in Texas. \n",
    "\n",
    "`SELECT title, description, date_posted, link FROM JobData  \n",
    "WHERE employmentType = ‘Internship’ AND \n",
    "location_id IN (SELECT id FROM Location WHERE state=’TX’); `\n",
    "\n",
    "![title](images/jobsquery9.png)"
   ]
  },
  {
   "cell_type": "markdown",
   "id": "256379d4",
   "metadata": {},
   "source": [
    "#### 10.Select jobs from companies with revenue -> $1 to $5 million\n",
    "\n",
    "`SELECT title, description, date_posted, link \n",
    "FROM JobData WHERE company_id IN (SELECT id FROM Company WHERE revenue='$1 to $5 million (USD)'); `\n",
    "\n",
    "![title](images/jobsquery10.png)"
   ]
  },
  {
   "cell_type": "markdown",
   "id": "a838b22a",
   "metadata": {},
   "source": [
    "#### 11.Select jobs from companies with ratings >= 4.0 \n",
    "\n",
    "`SELECT title, description, date_posted, link  \n",
    "FROM JobData WHERE company_id IN (SELECT id FROM Company WHERE rating>=4.0); `\n",
    "\n",
    "![title](images/jobsquery11.png)"
   ]
  },
  {
   "cell_type": "markdown",
   "id": "68472b75",
   "metadata": {},
   "source": [
    "#### 12.Select jobs with salary > 100000.\n",
    "\n",
    "`SELECT title, description, date_posted, link  \n",
    "FROM JobData WHERE id IN (SELECT job_id FROM derived_data WHERE value >100000 and category='Salary'); `\n",
    "\n",
    "![title](images/jobsquery12.png)"
   ]
  },
  {
   "cell_type": "markdown",
   "id": "4bd0d798",
   "metadata": {},
   "source": [
    "#### 13.Select jobs where skill = Python.\n",
    "\n",
    "`SELECT title, description, date_posted, link  \n",
    "FROM JobData WHERE id IN (SELECT id FROM derived_data WHERE category='Skills' AND value like '%python%'); `\n",
    "\n",
    "![title](images/jobsquery13.png)"
   ]
  },
  {
   "cell_type": "markdown",
   "id": "46c62f96",
   "metadata": {},
   "source": [
    "#### 14.Select jobs related to Software Development.\n",
    "\n",
    "`SELECT title, description, date_posted, link  \n",
    "FROM JobData WHERE company_id IN (SELECT id FROM Company WHERE industry='Software Development'); `\n",
    "\n",
    "![title](images/jobsquery14.png)"
   ]
  },
  {
   "cell_type": "markdown",
   "id": "bb1d24cb",
   "metadata": {},
   "source": [
    "#### 15.Select jobs related to Software Development and skill as Python\n",
    "\n",
    "`SELECT title, description, date_posted, link  \n",
    "FROM JobData WHERE company_id \n",
    "IN (SELECT id FROM Company WHERE industry='Software Development') \n",
    "AND id IN \n",
    "(SELECT id FROM derived_data WHERE category='Skills' AND value like '%python%'); `\n",
    "\n",
    "![title](images/jobsquery15.png)"
   ]
  },
  {
   "cell_type": "markdown",
   "id": "0a851de9",
   "metadata": {},
   "source": [
    "#### 16.Select Apple jobs with title data scientist\n",
    "\n",
    "`SELECT title, description, date_posted, link  \n",
    "FROM JobData WHERE title LIKE '%AI/ML%' \n",
    "AND company_id IN (SELECT id FROM Company WHERE name='Apple'); `\n",
    "\n",
    "![title](images/jobsquery16.png)"
   ]
  },
  {
   "cell_type": "markdown",
   "id": "d0a205e2",
   "metadata": {},
   "source": [
    "#### 17.Select Data Science EnhanceIT jobs in San Fransisco. \n",
    "\n",
    "`SELECT title, description, date_posted, link  \n",
    "FROM JobData WHERE title LIKE '%data scientist%' \n",
    "AND company_id IN (SELECT id FROM Company WHERE name='Enhance IT') \n",
    "AND location_id = (SELECT id FROM Location WHERE city='San Fransisco')`\n",
    "\n"
   ]
  },
  {
   "cell_type": "markdown",
   "id": "d75aef0f",
   "metadata": {},
   "source": [
    "#### 18. Select associate jobs in Boston \n",
    "\n",
    "`SELECT title, description, date_posted, link  \n",
    "FROM JobData WHERE seniority_level='Associate' \n",
    "AND location_id = (SELECT id FROM Location WHERE city='Boston'); `\n",
    "\n"
   ]
  },
  {
   "cell_type": "markdown",
   "id": "2b209ba3",
   "metadata": {},
   "source": [
    "#### 19. Select python associate jobs in Boston.\n",
    "\n",
    "`SELECT title, description, date_posted, link  \n",
    "FROM JobData WHERE seniority_level='Associate' \n",
    "AND location_id = (SELECT id FROM Location WHERE city='Boston'); `\n",
    "\n"
   ]
  },
  {
   "cell_type": "markdown",
   "id": "045fb227",
   "metadata": {},
   "source": [
    "#### 20. Select jobs from apple where job description contains H1B.\n",
    "\n",
    "`SELECT title, description, date_posted, link  \n",
    "FROM JobData WHERE description LIKE '%H1B%' \n",
    "AND company_id IN (SELECT id FROM Company WHERE name='Apple');`\n",
    "\n",
    "![title](images/jobsquery20.png)"
   ]
  },
  {
   "cell_type": "code",
   "execution_count": null,
   "id": "ddf2c05a",
   "metadata": {},
   "outputs": [],
   "source": []
  }
 ],
 "metadata": {
  "kernelspec": {
   "display_name": "Python 3 (ipykernel)",
   "language": "python",
   "name": "python3"
  },
  "language_info": {
   "codemirror_mode": {
    "name": "ipython",
    "version": 3
   },
   "file_extension": ".py",
   "mimetype": "text/x-python",
   "name": "python",
   "nbconvert_exporter": "python",
   "pygments_lexer": "ipython3",
   "version": "3.10.8"
  }
 },
 "nbformat": 4,
 "nbformat_minor": 5
}
