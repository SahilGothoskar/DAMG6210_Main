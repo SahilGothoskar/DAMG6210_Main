{
 "cells": [
  {
   "cell_type": "markdown",
   "metadata": {},
   "source": [
    "#### 1. Select jobs based in Boston. \n",
    "\n",
    "`SELECT title, description, date_posted, link FROM JobData  \n",
    "WHERE location_id = (SELECT id FROM Location WHERE city='Boston');`\n",
    "\n",
    "![title](images/query1.png)"
   ]
  },
  {
   "cell_type": "markdown",
   "metadata": {},
   "source": [
    "#### 2. Select jobs based in Massachusetts. \n",
    "\n",
    "`SELECT title, description, date_posted, link FROM JobData  \n",
    "WHERE location_id IN (SELECT id FROM Location WHERE state='MA'); `\n",
    "\n",
    "![title](images/query2.png)"
   ]
  },
  {
   "cell_type": "markdown",
   "metadata": {},
   "source": [
    "#### 3. Select Remote jobs. \n",
    "\n",
    "`SELECT title, description, date_posted, link  \n",
    "FROM JobData WHERE location_id IN (SELECT id FROM Location WHERE city='Remote'); `\n",
    "\n",
    "![title](images/query3.png)"
   ]
  },
  {
   "cell_type": "markdown",
   "metadata": {},
   "source": [
    "#### 4.Select the top 3 locations with low tax rates.  \n",
    "\n",
    "`SELECT city FROM Location\n",
    "WHERE state IN \n",
    "(SELECT * FROM (SELECT state FROM state_data ORDER BY tax_rate ASC LIMIT 3) AS state_table);`\n",
    "\n",
    "![title](images/query4.png)"
   ]
  },
  {
   "cell_type": "markdown",
   "metadata": {},
   "source": [
    "#### 5.Select jobs at a location with the lowest tax rate.  \n",
    "\n",
    "`SELECT title, description, date_posted, link  \n",
    "FROM JobData \n",
    "WHERE location_id \n",
    "IN (SELECT id FROM Location \n",
    "WHERE state IN \n",
    "(SELECT * FROM (SELECT state FROM state_data ORDER BY tax_rate ASC LIMIT 2) AS state_table); `\n",
    "\n",
    "![title](images/query5.png)"
   ]
  },
  {
   "cell_type": "markdown",
   "metadata": {},
   "source": [
    "#### 6.Select jobs at top 3 locations with low cost of living. \n",
    "\n",
    "`SELECT title, description, date_posted, link \n",
    "FROM JobData WHERE location_id IN \n",
    "(SELECT * FROM (SELECT id \tFROM Location ORDER BY cost_of_living_index ASC LIMIT 3) AS location_table);`\n",
    "\n",
    "![title](images/query6.png)"
   ]
  },
  {
   "cell_type": "markdown",
   "metadata": {},
   "source": [
    "#### 7. Select jobs from companies with size -> 51 to 200 Employees \n",
    "\n",
    "`SELECT title, description, date_posted, link \n",
    "FROM JobData WHERE company_id IN (SELECT id FROM Company WHERE size='51 to 200 Employees'); `\n",
    "\n",
    "![title](images/query7.png)"
   ]
  },
  {
   "cell_type": "markdown",
   "metadata": {},
   "source": [
    "#### 8.Select jobs from Apple. \n",
    "\n",
    "`SELECT title, description, date_posted, link \n",
    "FROM JobData WHERE company_id IN (SELECT id FROM Company WHERE name='Apple'); `\n",
    "\n",
    "![title](images/query8.png)"
   ]
  },
  {
   "cell_type": "markdown",
   "metadata": {},
   "source": [
    "#### 9.Select internships based in Texas. \n",
    "\n",
    "`SELECT title, description, date_posted, link FROM JobData  \n",
    "WHERE employmentType = ‘Internship’ AND \n",
    "location_id IN (SELECT id FROM Location WHERE state=’TX’); `\n",
    "\n",
    "![title](images/query9.png)"
   ]
  },
  {
   "cell_type": "markdown",
   "metadata": {},
   "source": [
    "#### 10.Select jobs from companies with revenue -> $1 to $5 million\n",
    "\n",
    "`SELECT title, description, date_posted, link \n",
    "FROM JobData WHERE company_id IN (SELECT id FROM Company WHERE revenue='$1 to $5 million (USD)'); `\n",
    "\n",
    "![title](images/query10.png)"
   ]
  },
  {
   "cell_type": "markdown",
   "metadata": {},
   "source": [
    "#### 11.Select jobs from companies with ratings >= 4.0 \n",
    "\n",
    "`SELECT title, description, date_posted, link  \n",
    "FROM JobData WHERE company_id IN (SELECT id FROM Company WHERE rating>=4.0); `\n",
    "\n",
    "![title](images/query11.png)"
   ]
  },
  {
   "cell_type": "markdown",
   "metadata": {},
   "source": [
    "#### 12.Select jobs with salary > 100000.\n",
    "\n",
    "`SELECT title, description, date_posted, link  \n",
    "FROM JobData WHERE id IN (SELECT job_id FROM derived_data WHERE value >100000 and category='Salary'); `\n",
    "\n",
    "![title](images/query12.png)"
   ]
  },
  {
   "cell_type": "markdown",
   "metadata": {},
   "source": [
    "#### 13.Select jobs where skill = Python.\n",
    "\n",
    "`SELECT title, description, date_posted, link  \n",
    "FROM JobData WHERE id IN (SELECT id FROM derived_data WHERE category='Skills' AND value like '%python%'); `\n",
    "\n",
    "![title](images/query13.png)"
   ]
  },
  {
   "cell_type": "markdown",
   "metadata": {},
   "source": [
    "#### 14.Select jobs related to Software Development.\n",
    "\n",
    "`SELECT title, description, date_posted, link  \n",
    "FROM JobData WHERE company_id IN (SELECT id FROM Company WHERE industry='Software Development'); `\n",
    "\n",
    "![title](images/query14.png)"
   ]
  },
  {
   "cell_type": "markdown",
   "metadata": {},
   "source": [
    "#### 15.Select jobs related to Software Development and skill as Python\n",
    "\n",
    "`SELECT title, description, date_posted, link  \n",
    "FROM JobData WHERE company_id \n",
    "IN (SELECT id FROM Company WHERE industry='Software Development') \n",
    "AND id IN \n",
    "(SELECT id FROM derived_data WHERE category='Skills' AND value like '%python%'); `\n",
    "\n",
    "![title](images/query15.png)"
   ]
  },
  {
   "cell_type": "markdown",
   "metadata": {},
   "source": [
    "#### 16.Select Apple jobs with title data scientist\n",
    "\n",
    "`SELECT title, description, date_posted, link  \n",
    "FROM JobData WHERE title LIKE '%AI/ML%' \n",
    "AND company_id IN (SELECT id FROM Company WHERE name='Apple'); `\n",
    "\n",
    "![title](images/query16.png)"
   ]
  },
  {
   "cell_type": "markdown",
   "metadata": {},
   "source": [
    "#### 17.Select Data Science EnhanceIT jobs in San Fransisco. \n",
    "\n",
    "`SELECT title, description, date_posted, link  \n",
    "FROM JobData WHERE title LIKE '%data scientist%' \n",
    "AND company_id IN (SELECT id FROM Company WHERE name='Enhance IT') \n",
    "AND location_id = (SELECT id FROM Location WHERE city='San Fransisco')`\n",
    "\n"
   ]
  },
  {
   "cell_type": "markdown",
   "metadata": {},
   "source": [
    "#### 18. Select associate jobs in Boston \n",
    "\n",
    "`SELECT title, description, date_posted, link  \n",
    "FROM JobData WHERE seniority_level='Associate' \n",
    "AND location_id = (SELECT id FROM Location WHERE city='Boston'); `\n",
    "\n"
   ]
  },
  {
   "cell_type": "markdown",
   "metadata": {},
   "source": [
    "#### 19. Select python associate jobs in Boston.\n",
    "\n",
    "`SELECT title, description, date_posted, link  \n",
    "FROM JobData WHERE seniority_level='Associate' \n",
    "AND location_id = (SELECT id FROM Location WHERE city='Boston'); `\n",
    "\n"
   ]
  },
  {
   "cell_type": "markdown",
   "metadata": {},
   "source": [
    "#### 20. Select jobs from apple where job description contains H1B.\n",
    "\n",
    "`SELECT title, description, date_posted, link  \n",
    "FROM JobData WHERE description LIKE '%H1B%' \n",
    "AND company_id IN (SELECT id FROM Company WHERE name='Apple');`\n",
    "\n",
    "![title](images/query20.png)"
   ]
  },
  {
   "cell_type": "code",
   "execution_count": null,
   "metadata": {},
   "outputs": [],
   "source": []
  }
 ],
 "metadata": {
  "kernelspec": {
   "display_name": "Python 3",
   "language": "python",
   "name": "python3"
  },
  "language_info": {
   "codemirror_mode": {
    "name": "ipython",
    "version": 3
   },
   "file_extension": ".py",
   "mimetype": "text/x-python",
   "name": "python",
   "nbconvert_exporter": "python",
   "pygments_lexer": "ipython3",
   "version": "3.7.4"
  }
 },
 "nbformat": 4,
 "nbformat_minor": 5
}
